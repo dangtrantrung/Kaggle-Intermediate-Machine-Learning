{
 "cells": [
  {
   "cell_type": "markdown",
   "id": "d1725888",
   "metadata": {
    "papermill": {
     "duration": 0.008051,
     "end_time": "2024-03-03T04:27:00.189563",
     "exception": false,
     "start_time": "2024-03-03T04:27:00.181512",
     "status": "completed"
    },
    "tags": []
   },
   "source": [
    "**This notebook is an exercise in the [Intermediate Machine Learning](https://www.kaggle.com/learn/intermediate-machine-learning) course.  You can reference the tutorial at [this link](https://www.kaggle.com/alexisbcook/xgboost).**\n",
    "\n",
    "---\n"
   ]
  },
  {
   "cell_type": "markdown",
   "id": "67668bb0",
   "metadata": {
    "papermill": {
     "duration": 0.00676,
     "end_time": "2024-03-03T04:27:00.204109",
     "exception": false,
     "start_time": "2024-03-03T04:27:00.197349",
     "status": "completed"
    },
    "tags": []
   },
   "source": [
    "In this exercise, you will use your new knowledge to train a model with **gradient boosting**.\n",
    "\n",
    "# Setup\n",
    "\n",
    "The questions below will give you feedback on your work. Run the following cell to set up the feedback system."
   ]
  },
  {
   "cell_type": "code",
   "execution_count": 1,
   "id": "bcac0ae8",
   "metadata": {
    "execution": {
     "iopub.execute_input": "2024-03-03T04:27:00.219035Z",
     "iopub.status.busy": "2024-03-03T04:27:00.218643Z",
     "iopub.status.idle": "2024-03-03T04:27:03.687531Z",
     "shell.execute_reply": "2024-03-03T04:27:03.686600Z"
    },
    "papermill": {
     "duration": 3.479105,
     "end_time": "2024-03-03T04:27:03.689932",
     "exception": false,
     "start_time": "2024-03-03T04:27:00.210827",
     "status": "completed"
    },
    "tags": []
   },
   "outputs": [
    {
     "name": "stdout",
     "output_type": "stream",
     "text": [
      "Setup Complete\n"
     ]
    }
   ],
   "source": [
    "# Set up code checking\n",
    "import os\n",
    "if not os.path.exists(\"../input/train.csv\"):\n",
    "    os.symlink(\"../input/home-data-for-ml-course/train.csv\", \"../input/train.csv\")  \n",
    "    os.symlink(\"../input/home-data-for-ml-course/test.csv\", \"../input/test.csv\") \n",
    "from learntools.core import binder\n",
    "binder.bind(globals())\n",
    "from learntools.ml_intermediate.ex6 import *\n",
    "print(\"Setup Complete\")"
   ]
  },
  {
   "cell_type": "markdown",
   "id": "24a95ae0",
   "metadata": {
    "papermill": {
     "duration": 0.006544,
     "end_time": "2024-03-03T04:27:03.704105",
     "exception": false,
     "start_time": "2024-03-03T04:27:03.697561",
     "status": "completed"
    },
    "tags": []
   },
   "source": [
    "You will work with the [Housing Prices Competition for Kaggle Learn Users](https://www.kaggle.com/c/home-data-for-ml-course) dataset from the previous exercise. \n",
    "\n",
    "![Ames Housing dataset image](https://storage.googleapis.com/kaggle-media/learn/images/lTJVG4e.png)\n",
    "\n",
    "Run the next code cell without changes to load the training and validation sets in `X_train`, `X_valid`, `y_train`, and `y_valid`.  The test set is loaded in `X_test`."
   ]
  },
  {
   "cell_type": "code",
   "execution_count": 2,
   "id": "578bc035",
   "metadata": {
    "execution": {
     "iopub.execute_input": "2024-03-03T04:27:03.719798Z",
     "iopub.status.busy": "2024-03-03T04:27:03.719073Z",
     "iopub.status.idle": "2024-03-03T04:27:03.909175Z",
     "shell.execute_reply": "2024-03-03T04:27:03.907965Z"
    },
    "papermill": {
     "duration": 0.201008,
     "end_time": "2024-03-03T04:27:03.912021",
     "exception": false,
     "start_time": "2024-03-03T04:27:03.711013",
     "status": "completed"
    },
    "tags": []
   },
   "outputs": [],
   "source": [
    "import pandas as pd\n",
    "from sklearn.model_selection import train_test_split\n",
    "\n",
    "# Read the data\n",
    "X = pd.read_csv('../input/train.csv', index_col='Id')\n",
    "X_test_full = pd.read_csv('../input/test.csv', index_col='Id')\n",
    "\n",
    "# Remove rows with missing target, separate target from predictors\n",
    "X.dropna(axis=0, subset=['SalePrice'], inplace=True)\n",
    "y = X.SalePrice              \n",
    "X.drop(['SalePrice'], axis=1, inplace=True)\n",
    "\n",
    "# Break off validation set from training data\n",
    "X_train_full, X_valid_full, y_train, y_valid = train_test_split(X, y, train_size=0.8, test_size=0.2,\n",
    "                                                                random_state=0)\n",
    "\n",
    "# \"Cardinality\" means the number of unique values in a column\n",
    "# Select categorical columns with relatively low cardinality (convenient but arbitrary)\n",
    "low_cardinality_cols = [cname for cname in X_train_full.columns if X_train_full[cname].nunique() < 10 and \n",
    "                        X_train_full[cname].dtype == \"object\"]\n",
    "\n",
    "# Select numeric columns\n",
    "numeric_cols = [cname for cname in X_train_full.columns if X_train_full[cname].dtype in ['int64', 'float64']]\n",
    "\n",
    "# Keep selected columns only\n",
    "my_cols = low_cardinality_cols + numeric_cols\n",
    "X_train = X_train_full[my_cols].copy()\n",
    "X_valid = X_valid_full[my_cols].copy()\n",
    "X_test = X_test_full[my_cols].copy()\n",
    "\n",
    "# One-hot encode the data (to shorten the code, we use pandas)\n",
    "X_train = pd.get_dummies(X_train)\n",
    "X_valid = pd.get_dummies(X_valid)\n",
    "X_test = pd.get_dummies(X_test)\n",
    "X_train, X_valid = X_train.align(X_valid, join='left', axis=1)\n",
    "X_train, X_test = X_train.align(X_test, join='left', axis=1)"
   ]
  },
  {
   "cell_type": "markdown",
   "id": "e74da024",
   "metadata": {
    "papermill": {
     "duration": 0.006531,
     "end_time": "2024-03-03T04:27:03.925418",
     "exception": false,
     "start_time": "2024-03-03T04:27:03.918887",
     "status": "completed"
    },
    "tags": []
   },
   "source": [
    "# Step 1: Build model\n",
    "\n",
    "### Part A\n",
    "\n",
    "In this step, you'll build and train your first model with gradient boosting.\n",
    "\n",
    "- Begin by setting `my_model_1` to an XGBoost model.  Use the [XGBRegressor](https://xgboost.readthedocs.io/en/latest/python/python_api.html#xgboost.XGBRegressor) class, and set the random seed to 0 (`random_state=0`).  **Leave all other parameters as default.**\n",
    "- Then, fit the model to the training data in `X_train` and `y_train`."
   ]
  },
  {
   "cell_type": "code",
   "execution_count": 3,
   "id": "e2c97958",
   "metadata": {
    "execution": {
     "iopub.execute_input": "2024-03-03T04:27:03.940822Z",
     "iopub.status.busy": "2024-03-03T04:27:03.940380Z",
     "iopub.status.idle": "2024-03-03T04:27:04.474130Z",
     "shell.execute_reply": "2024-03-03T04:27:04.473165Z"
    },
    "papermill": {
     "duration": 0.544398,
     "end_time": "2024-03-03T04:27:04.476707",
     "exception": false,
     "start_time": "2024-03-03T04:27:03.932309",
     "status": "completed"
    },
    "tags": []
   },
   "outputs": [
    {
     "data": {
      "application/javascript": [
       "parent.postMessage({\"jupyterEvent\": \"custom.exercise_interaction\", \"data\": {\"outcomeType\": 1, \"valueTowardsCompletion\": 0.5, \"interactionType\": 1, \"questionType\": 2, \"questionId\": \"1.1_Model1A\", \"learnToolsVersion\": \"0.3.4\", \"failureMessage\": \"\", \"exceptionClass\": \"\", \"trace\": \"\"}}, \"*\")"
      ],
      "text/plain": [
       "<IPython.core.display.Javascript object>"
      ]
     },
     "metadata": {},
     "output_type": "display_data"
    },
    {
     "data": {
      "text/markdown": [
       "<span style=\"color:#33cc33\">Correct</span>"
      ],
      "text/plain": [
       "Correct"
      ]
     },
     "metadata": {},
     "output_type": "display_data"
    }
   ],
   "source": [
    "from xgboost import XGBRegressor\n",
    "\n",
    "# Define the model\n",
    "my_model_1 = XGBRegressor(random_state=0) # Your code here\n",
    "\n",
    "# Fit the model\n",
    "my_model_1.fit(X_train,y_train) # Your code here\n",
    "\n",
    "# Check your answer\n",
    "step_1.a.check()"
   ]
  },
  {
   "cell_type": "code",
   "execution_count": 4,
   "id": "648c97d9",
   "metadata": {
    "execution": {
     "iopub.execute_input": "2024-03-03T04:27:04.493431Z",
     "iopub.status.busy": "2024-03-03T04:27:04.493029Z",
     "iopub.status.idle": "2024-03-03T04:27:04.497344Z",
     "shell.execute_reply": "2024-03-03T04:27:04.496189Z"
    },
    "papermill": {
     "duration": 0.015464,
     "end_time": "2024-03-03T04:27:04.499774",
     "exception": false,
     "start_time": "2024-03-03T04:27:04.484310",
     "status": "completed"
    },
    "tags": []
   },
   "outputs": [],
   "source": [
    "# Lines below will give you a hint or solution code\n",
    "#step_1.a.hint()\n",
    "#step_1.a.solution()"
   ]
  },
  {
   "cell_type": "markdown",
   "id": "60d45176",
   "metadata": {
    "papermill": {
     "duration": 0.006856,
     "end_time": "2024-03-03T04:27:04.513843",
     "exception": false,
     "start_time": "2024-03-03T04:27:04.506987",
     "status": "completed"
    },
    "tags": []
   },
   "source": [
    "### Part B\n",
    "\n",
    "Set `predictions_1` to the model's predictions for the validation data.  Recall that the validation features are stored in `X_valid`."
   ]
  },
  {
   "cell_type": "code",
   "execution_count": 5,
   "id": "b4681a0d",
   "metadata": {
    "execution": {
     "iopub.execute_input": "2024-03-03T04:27:04.530545Z",
     "iopub.status.busy": "2024-03-03T04:27:04.529749Z",
     "iopub.status.idle": "2024-03-03T04:27:04.586913Z",
     "shell.execute_reply": "2024-03-03T04:27:04.585946Z"
    },
    "papermill": {
     "duration": 0.068551,
     "end_time": "2024-03-03T04:27:04.589684",
     "exception": false,
     "start_time": "2024-03-03T04:27:04.521133",
     "status": "completed"
    },
    "tags": []
   },
   "outputs": [
    {
     "data": {
      "application/javascript": [
       "parent.postMessage({\"jupyterEvent\": \"custom.exercise_interaction\", \"data\": {\"outcomeType\": 1, \"valueTowardsCompletion\": 0.5, \"interactionType\": 1, \"questionType\": 2, \"questionId\": \"1.2_Model1B\", \"learnToolsVersion\": \"0.3.4\", \"failureMessage\": \"\", \"exceptionClass\": \"\", \"trace\": \"\"}}, \"*\")"
      ],
      "text/plain": [
       "<IPython.core.display.Javascript object>"
      ]
     },
     "metadata": {},
     "output_type": "display_data"
    },
    {
     "data": {
      "text/markdown": [
       "<span style=\"color:#33cc33\">Correct</span>"
      ],
      "text/plain": [
       "Correct"
      ]
     },
     "metadata": {},
     "output_type": "display_data"
    }
   ],
   "source": [
    "from sklearn.metrics import mean_absolute_error\n",
    "\n",
    "# Get predictions\n",
    "predictions_1 = my_model_1.predict(X_valid) # Your code here\n",
    "\n",
    "# Check your answer\n",
    "step_1.b.check()"
   ]
  },
  {
   "cell_type": "code",
   "execution_count": 6,
   "id": "a7804e71",
   "metadata": {
    "execution": {
     "iopub.execute_input": "2024-03-03T04:27:04.607299Z",
     "iopub.status.busy": "2024-03-03T04:27:04.606915Z",
     "iopub.status.idle": "2024-03-03T04:27:04.611253Z",
     "shell.execute_reply": "2024-03-03T04:27:04.610098Z"
    },
    "papermill": {
     "duration": 0.015535,
     "end_time": "2024-03-03T04:27:04.613580",
     "exception": false,
     "start_time": "2024-03-03T04:27:04.598045",
     "status": "completed"
    },
    "tags": []
   },
   "outputs": [],
   "source": [
    "# Lines below will give you a hint or solution code\n",
    "#step_1.b.hint()\n",
    "#step_1.b.solution()"
   ]
  },
  {
   "cell_type": "markdown",
   "id": "16931838",
   "metadata": {
    "papermill": {
     "duration": 0.007239,
     "end_time": "2024-03-03T04:27:04.628343",
     "exception": false,
     "start_time": "2024-03-03T04:27:04.621104",
     "status": "completed"
    },
    "tags": []
   },
   "source": [
    "### Part C\n",
    "\n",
    "Finally, use the `mean_absolute_error()` function to calculate the mean absolute error (MAE) corresponding to the predictions for the validation set.  Recall that the labels for the validation data are stored in `y_valid`."
   ]
  },
  {
   "cell_type": "code",
   "execution_count": 7,
   "id": "961aec71",
   "metadata": {
    "execution": {
     "iopub.execute_input": "2024-03-03T04:27:04.646547Z",
     "iopub.status.busy": "2024-03-03T04:27:04.646152Z",
     "iopub.status.idle": "2024-03-03T04:27:04.657323Z",
     "shell.execute_reply": "2024-03-03T04:27:04.656470Z"
    },
    "papermill": {
     "duration": 0.023613,
     "end_time": "2024-03-03T04:27:04.659498",
     "exception": false,
     "start_time": "2024-03-03T04:27:04.635885",
     "status": "completed"
    },
    "tags": []
   },
   "outputs": [
    {
     "name": "stdout",
     "output_type": "stream",
     "text": [
      "Mean Absolute Error: 18161.82412510702\n"
     ]
    },
    {
     "data": {
      "application/javascript": [
       "parent.postMessage({\"jupyterEvent\": \"custom.exercise_interaction\", \"data\": {\"outcomeType\": 1, \"valueTowardsCompletion\": 0.5, \"interactionType\": 1, \"questionType\": 2, \"questionId\": \"1.3_Model1C\", \"learnToolsVersion\": \"0.3.4\", \"failureMessage\": \"\", \"exceptionClass\": \"\", \"trace\": \"\"}}, \"*\")"
      ],
      "text/plain": [
       "<IPython.core.display.Javascript object>"
      ]
     },
     "metadata": {},
     "output_type": "display_data"
    },
    {
     "data": {
      "text/markdown": [
       "<span style=\"color:#33cc33\">Correct</span>"
      ],
      "text/plain": [
       "Correct"
      ]
     },
     "metadata": {},
     "output_type": "display_data"
    }
   ],
   "source": [
    "# Calculate MAE\n",
    "mae_1 = mean_absolute_error(predictions_1,y_valid) # Your code here\n",
    "\n",
    "# Uncomment to print MAE\n",
    "print(\"Mean Absolute Error:\" , mae_1)\n",
    "\n",
    "# Check your answer\n",
    "step_1.c.check()"
   ]
  },
  {
   "cell_type": "code",
   "execution_count": 8,
   "id": "8150f8f0",
   "metadata": {
    "execution": {
     "iopub.execute_input": "2024-03-03T04:27:04.677371Z",
     "iopub.status.busy": "2024-03-03T04:27:04.676954Z",
     "iopub.status.idle": "2024-03-03T04:27:04.681180Z",
     "shell.execute_reply": "2024-03-03T04:27:04.680204Z"
    },
    "papermill": {
     "duration": 0.015908,
     "end_time": "2024-03-03T04:27:04.683339",
     "exception": false,
     "start_time": "2024-03-03T04:27:04.667431",
     "status": "completed"
    },
    "tags": []
   },
   "outputs": [],
   "source": [
    "# Lines below will give you a hint or solution code\n",
    "#step_1.c.hint()\n",
    "#step_1.c.solution()"
   ]
  },
  {
   "cell_type": "markdown",
   "id": "341eed64",
   "metadata": {
    "papermill": {
     "duration": 0.007798,
     "end_time": "2024-03-03T04:27:04.699213",
     "exception": false,
     "start_time": "2024-03-03T04:27:04.691415",
     "status": "completed"
    },
    "tags": []
   },
   "source": [
    "# Step 2: Improve the model\n",
    "\n",
    "Now that you've trained a default model as baseline, it's time to tinker with the parameters, to see if you can get better performance!\n",
    "- Begin by setting `my_model_2` to an XGBoost model, using the [XGBRegressor](https://xgboost.readthedocs.io/en/latest/python/python_api.html#xgboost.XGBRegressor) class.  Use what you learned in the previous tutorial to figure out how to change the default parameters (like `n_estimators` and `learning_rate`) to get better results.\n",
    "- Then, fit the model to the training data in `X_train` and `y_train`.\n",
    "- Set `predictions_2` to the model's predictions for the validation data.  Recall that the validation features are stored in `X_valid`.\n",
    "- Finally, use the `mean_absolute_error()` function to calculate the mean absolute error (MAE) corresponding to the predictions on the validation set.  Recall that the labels for the validation data are stored in `y_valid`.\n",
    "\n",
    "In order for this step to be marked correct, your model in `my_model_2` must attain lower MAE than the model in `my_model_1`. "
   ]
  },
  {
   "cell_type": "code",
   "execution_count": 9,
   "id": "891c5d28",
   "metadata": {
    "execution": {
     "iopub.execute_input": "2024-03-03T04:27:04.718082Z",
     "iopub.status.busy": "2024-03-03T04:27:04.716939Z",
     "iopub.status.idle": "2024-03-03T04:27:05.337913Z",
     "shell.execute_reply": "2024-03-03T04:27:05.336822Z"
    },
    "papermill": {
     "duration": 0.632854,
     "end_time": "2024-03-03T04:27:05.340299",
     "exception": false,
     "start_time": "2024-03-03T04:27:04.707445",
     "status": "completed"
    },
    "tags": []
   },
   "outputs": [
    {
     "name": "stdout",
     "output_type": "stream",
     "text": [
      "Mean Absolute Error: 17208.455920911816\n"
     ]
    },
    {
     "data": {
      "application/javascript": [
       "parent.postMessage({\"jupyterEvent\": \"custom.exercise_interaction\", \"data\": {\"outcomeType\": 1, \"valueTowardsCompletion\": 0.5, \"interactionType\": 1, \"questionType\": 2, \"questionId\": \"2_Model2\", \"learnToolsVersion\": \"0.3.4\", \"failureMessage\": \"\", \"exceptionClass\": \"\", \"trace\": \"\"}}, \"*\")"
      ],
      "text/plain": [
       "<IPython.core.display.Javascript object>"
      ]
     },
     "metadata": {},
     "output_type": "display_data"
    },
    {
     "data": {
      "text/markdown": [
       "<span style=\"color:#33cc33\">Correct</span>"
      ],
      "text/plain": [
       "Correct"
      ]
     },
     "metadata": {},
     "output_type": "display_data"
    }
   ],
   "source": [
    "# Define the model\n",
    "my_model_2  = XGBRegressor(random_state=0,n_estimators=100,learning_rate=0.05) # Your code here\n",
    "\n",
    "# Fit the model\n",
    "my_model_2.fit(X_train,y_train) # Your code here\n",
    "\n",
    "# Get predictions\n",
    "predictions_2 = my_model_2.predict(X_valid) # Your code here\n",
    "\n",
    "# Calculate MAE\n",
    "mae_2 = mean_absolute_error(predictions_2,y_valid) # Your code here\n",
    "\n",
    "# Uncomment to print MAE\n",
    "print(\"Mean Absolute Error:\" , mae_2)\n",
    "\n",
    "# Check your answer\n",
    "step_2.check()"
   ]
  },
  {
   "cell_type": "code",
   "execution_count": 10,
   "id": "156262aa",
   "metadata": {
    "execution": {
     "iopub.execute_input": "2024-03-03T04:27:05.359962Z",
     "iopub.status.busy": "2024-03-03T04:27:05.359547Z",
     "iopub.status.idle": "2024-03-03T04:27:05.364304Z",
     "shell.execute_reply": "2024-03-03T04:27:05.363262Z"
    },
    "papermill": {
     "duration": 0.016916,
     "end_time": "2024-03-03T04:27:05.366667",
     "exception": false,
     "start_time": "2024-03-03T04:27:05.349751",
     "status": "completed"
    },
    "tags": []
   },
   "outputs": [],
   "source": [
    "# Lines below will give you a hint or solution code\n",
    "#step_2.hint()\n",
    "#step_2.solution()"
   ]
  },
  {
   "cell_type": "markdown",
   "id": "d838b8f0",
   "metadata": {
    "papermill": {
     "duration": 0.008531,
     "end_time": "2024-03-03T04:27:05.384958",
     "exception": false,
     "start_time": "2024-03-03T04:27:05.376427",
     "status": "completed"
    },
    "tags": []
   },
   "source": [
    "# Step 3: Break the model\n",
    "\n",
    "In this step, you will create a model that performs worse than the original model in Step 1.  This will help you to develop your intuition for how to set parameters.  You might even find that you accidentally get better performance, which is ultimately a nice problem to have and a valuable learning experience!\n",
    "- Begin by setting `my_model_3` to an XGBoost model, using the [XGBRegressor](https://xgboost.readthedocs.io/en/latest/python/python_api.html#xgboost.XGBRegressor) class.  Use what you learned in the previous tutorial to figure out how to change the default parameters (like `n_estimators` and `learning_rate`) to design a model to get high MAE.\n",
    "- Then, fit the model to the training data in `X_train` and `y_train`.\n",
    "- Set `predictions_3` to the model's predictions for the validation data.  Recall that the validation features are stored in `X_valid`.\n",
    "- Finally, use the `mean_absolute_error()` function to calculate the mean absolute error (MAE) corresponding to the predictions on the validation set.  Recall that the labels for the validation data are stored in `y_valid`.\n",
    "\n",
    "In order for this step to be marked correct, your model in `my_model_3` must attain higher MAE than the model in `my_model_1`. "
   ]
  },
  {
   "cell_type": "code",
   "execution_count": 11,
   "id": "841a6229",
   "metadata": {
    "execution": {
     "iopub.execute_input": "2024-03-03T04:27:05.403883Z",
     "iopub.status.busy": "2024-03-03T04:27:05.403447Z",
     "iopub.status.idle": "2024-03-03T04:27:06.241538Z",
     "shell.execute_reply": "2024-03-03T04:27:06.240572Z"
    },
    "papermill": {
     "duration": 0.850454,
     "end_time": "2024-03-03T04:27:06.244017",
     "exception": false,
     "start_time": "2024-03-03T04:27:05.393563",
     "status": "completed"
    },
    "tags": []
   },
   "outputs": [
    {
     "name": "stdout",
     "output_type": "stream",
     "text": [
      "Mean Absolute Error: 17052.48714415668\n"
     ]
    },
    {
     "data": {
      "application/javascript": [
       "parent.postMessage({\"jupyterEvent\": \"custom.exercise_interaction\", \"data\": {\"outcomeType\": 2, \"failureMessage\": \"You must specify the parameters in `my_model_3` so that it attains higher MAE than the model in `my_model_1`.\", \"interactionType\": 1, \"questionType\": 2, \"questionId\": \"3_Model3\", \"learnToolsVersion\": \"0.3.4\", \"valueTowardsCompletion\": 0.0, \"exceptionClass\": \"\", \"trace\": \"\"}}, \"*\")"
      ],
      "text/plain": [
       "<IPython.core.display.Javascript object>"
      ]
     },
     "metadata": {},
     "output_type": "display_data"
    },
    {
     "data": {
      "text/markdown": [
       "<span style=\"color:#cc3333\">Incorrect:</span> You must specify the parameters in `my_model_3` so that it attains higher MAE than the model in `my_model_1`."
      ],
      "text/plain": [
       "Incorrect: You must specify the parameters in `my_model_3` so that it attains higher MAE than the model in `my_model_1`."
      ]
     },
     "metadata": {},
     "output_type": "display_data"
    }
   ],
   "source": [
    "# Define the model\n",
    "my_model_3 = XGBRegressor(random_state=0,n_estimators=150,learning_rate=0.05) # Your code here\n",
    "\n",
    "# Fit the model\n",
    "my_model_3.fit(X_train,y_train) # Your code here\n",
    "\n",
    "# Get predictions\n",
    "predictions_3 = my_model_3.predict(X_valid) # Your code here\n",
    "\n",
    "# Calculate MAE\n",
    "mae_3 = mean_absolute_error(predictions_3,y_valid) # Your code here\n",
    "\n",
    "# Uncomment to print MAE\n",
    "print(\"Mean Absolute Error:\" , mae_3)\n",
    "\n",
    "# Check your answer\n",
    "step_3.check()"
   ]
  },
  {
   "cell_type": "code",
   "execution_count": 12,
   "id": "5e8a2e28",
   "metadata": {
    "execution": {
     "iopub.execute_input": "2024-03-03T04:27:06.265367Z",
     "iopub.status.busy": "2024-03-03T04:27:06.264968Z",
     "iopub.status.idle": "2024-03-03T04:27:06.269710Z",
     "shell.execute_reply": "2024-03-03T04:27:06.268421Z"
    },
    "papermill": {
     "duration": 0.018055,
     "end_time": "2024-03-03T04:27:06.272230",
     "exception": false,
     "start_time": "2024-03-03T04:27:06.254175",
     "status": "completed"
    },
    "tags": []
   },
   "outputs": [],
   "source": [
    "# Lines below will give you a hint or solution code\n",
    "#step_3.hint()\n",
    "#step_3.solution()"
   ]
  },
  {
   "cell_type": "markdown",
   "id": "ed03772f",
   "metadata": {
    "papermill": {
     "duration": 0.009175,
     "end_time": "2024-03-03T04:27:06.290634",
     "exception": false,
     "start_time": "2024-03-03T04:27:06.281459",
     "status": "completed"
    },
    "tags": []
   },
   "source": [
    "# Keep going\n",
    "\n",
    "Continue to learn about **[data leakage](https://www.kaggle.com/alexisbcook/data-leakage)**.  This is an important issue for a data scientist to understand, and it has the potential to ruin your models in subtle and dangerous ways!"
   ]
  },
  {
   "cell_type": "markdown",
   "id": "57fecdb0",
   "metadata": {
    "papermill": {
     "duration": 0.008724,
     "end_time": "2024-03-03T04:27:06.308505",
     "exception": false,
     "start_time": "2024-03-03T04:27:06.299781",
     "status": "completed"
    },
    "tags": []
   },
   "source": [
    "---\n",
    "\n",
    "\n",
    "\n",
    "\n",
    "*Have questions or comments? Visit the [course discussion forum](https://www.kaggle.com/learn/intermediate-machine-learning/discussion) to chat with other learners.*"
   ]
  }
 ],
 "metadata": {
  "kaggle": {
   "accelerator": "none",
   "dataSources": [
    {
     "databundleVersionId": 111096,
     "sourceId": 10211,
     "sourceType": "competition"
    }
   ],
   "isGpuEnabled": false,
   "isInternetEnabled": false,
   "language": "python",
   "sourceType": "notebook"
  },
  "kernelspec": {
   "display_name": "Python 3",
   "language": "python",
   "name": "python3"
  },
  "language_info": {
   "codemirror_mode": {
    "name": "ipython",
    "version": 3
   },
   "file_extension": ".py",
   "mimetype": "text/x-python",
   "name": "python",
   "nbconvert_exporter": "python",
   "pygments_lexer": "ipython3",
   "version": "3.10.13"
  },
  "papermill": {
   "default_parameters": {},
   "duration": 9.794216,
   "end_time": "2024-03-03T04:27:06.939524",
   "environment_variables": {},
   "exception": null,
   "input_path": "__notebook__.ipynb",
   "output_path": "__notebook__.ipynb",
   "parameters": {},
   "start_time": "2024-03-03T04:26:57.145308",
   "version": "2.5.0"
  }
 },
 "nbformat": 4,
 "nbformat_minor": 5
}
