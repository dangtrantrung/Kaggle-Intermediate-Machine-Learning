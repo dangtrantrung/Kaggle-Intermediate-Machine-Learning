{
 "cells": [
  {
   "cell_type": "markdown",
   "id": "539692aa",
   "metadata": {
    "papermill": {
     "duration": 0.006809,
     "end_time": "2024-03-03T03:43:01.732077",
     "exception": false,
     "start_time": "2024-03-03T03:43:01.725268",
     "status": "completed"
    },
    "tags": []
   },
   "source": [
    "**This notebook is an exercise in the [Intermediate Machine Learning](https://www.kaggle.com/learn/intermediate-machine-learning) course.  You can reference the tutorial at [this link](https://www.kaggle.com/alexisbcook/xgboost).**\n",
    "\n",
    "---\n"
   ]
  },
  {
   "cell_type": "markdown",
   "id": "f5a53424",
   "metadata": {
    "papermill": {
     "duration": 0.005938,
     "end_time": "2024-03-03T03:43:01.744517",
     "exception": false,
     "start_time": "2024-03-03T03:43:01.738579",
     "status": "completed"
    },
    "tags": []
   },
   "source": [
    "In this exercise, you will use your new knowledge to train a model with **gradient boosting**.\n",
    "\n",
    "# Setup\n",
    "\n",
    "The questions below will give you feedback on your work. Run the following cell to set up the feedback system."
   ]
  },
  {
   "cell_type": "code",
   "execution_count": 1,
   "id": "76b7378a",
   "metadata": {
    "execution": {
     "iopub.execute_input": "2024-03-03T03:43:01.759731Z",
     "iopub.status.busy": "2024-03-03T03:43:01.758872Z",
     "iopub.status.idle": "2024-03-03T03:43:05.524928Z",
     "shell.execute_reply": "2024-03-03T03:43:05.523926Z"
    },
    "papermill": {
     "duration": 3.77683,
     "end_time": "2024-03-03T03:43:05.527620",
     "exception": false,
     "start_time": "2024-03-03T03:43:01.750790",
     "status": "completed"
    },
    "tags": []
   },
   "outputs": [
    {
     "name": "stdout",
     "output_type": "stream",
     "text": [
      "Setup Complete\n"
     ]
    }
   ],
   "source": [
    "# Set up code checking\n",
    "import os\n",
    "if not os.path.exists(\"../input/train.csv\"):\n",
    "    os.symlink(\"../input/home-data-for-ml-course/train.csv\", \"../input/train.csv\")  \n",
    "    os.symlink(\"../input/home-data-for-ml-course/test.csv\", \"../input/test.csv\") \n",
    "from learntools.core import binder\n",
    "binder.bind(globals())\n",
    "from learntools.ml_intermediate.ex6 import *\n",
    "print(\"Setup Complete\")"
   ]
  },
  {
   "cell_type": "markdown",
   "id": "5bee4f0d",
   "metadata": {
    "papermill": {
     "duration": 0.006176,
     "end_time": "2024-03-03T03:43:05.541140",
     "exception": false,
     "start_time": "2024-03-03T03:43:05.534964",
     "status": "completed"
    },
    "tags": []
   },
   "source": [
    "You will work with the [Housing Prices Competition for Kaggle Learn Users](https://www.kaggle.com/c/home-data-for-ml-course) dataset from the previous exercise. \n",
    "\n",
    "![Ames Housing dataset image](https://storage.googleapis.com/kaggle-media/learn/images/lTJVG4e.png)\n",
    "\n",
    "Run the next code cell without changes to load the training and validation sets in `X_train`, `X_valid`, `y_train`, and `y_valid`.  The test set is loaded in `X_test`."
   ]
  },
  {
   "cell_type": "code",
   "execution_count": 2,
   "id": "abaf881f",
   "metadata": {
    "execution": {
     "iopub.execute_input": "2024-03-03T03:43:05.556259Z",
     "iopub.status.busy": "2024-03-03T03:43:05.555848Z",
     "iopub.status.idle": "2024-03-03T03:43:05.751808Z",
     "shell.execute_reply": "2024-03-03T03:43:05.750727Z"
    },
    "papermill": {
     "duration": 0.206713,
     "end_time": "2024-03-03T03:43:05.754675",
     "exception": false,
     "start_time": "2024-03-03T03:43:05.547962",
     "status": "completed"
    },
    "tags": []
   },
   "outputs": [],
   "source": [
    "import pandas as pd\n",
    "from sklearn.model_selection import train_test_split\n",
    "\n",
    "# Read the data\n",
    "X = pd.read_csv('../input/train.csv', index_col='Id')\n",
    "X_test_full = pd.read_csv('../input/test.csv', index_col='Id')\n",
    "\n",
    "# Remove rows with missing target, separate target from predictors\n",
    "X.dropna(axis=0, subset=['SalePrice'], inplace=True)\n",
    "y = X.SalePrice              \n",
    "X.drop(['SalePrice'], axis=1, inplace=True)\n",
    "\n",
    "# Break off validation set from training data\n",
    "X_train_full, X_valid_full, y_train, y_valid = train_test_split(X, y, train_size=0.8, test_size=0.2,\n",
    "                                                                random_state=0)\n",
    "\n",
    "# \"Cardinality\" means the number of unique values in a column\n",
    "# Select categorical columns with relatively low cardinality (convenient but arbitrary)\n",
    "low_cardinality_cols = [cname for cname in X_train_full.columns if X_train_full[cname].nunique() < 10 and \n",
    "                        X_train_full[cname].dtype == \"object\"]\n",
    "\n",
    "# Select numeric columns\n",
    "numeric_cols = [cname for cname in X_train_full.columns if X_train_full[cname].dtype in ['int64', 'float64']]\n",
    "\n",
    "# Keep selected columns only\n",
    "my_cols = low_cardinality_cols + numeric_cols\n",
    "X_train = X_train_full[my_cols].copy()\n",
    "X_valid = X_valid_full[my_cols].copy()\n",
    "X_test = X_test_full[my_cols].copy()\n",
    "\n",
    "# One-hot encode the data (to shorten the code, we use pandas)\n",
    "X_train = pd.get_dummies(X_train)\n",
    "X_valid = pd.get_dummies(X_valid)\n",
    "X_test = pd.get_dummies(X_test)\n",
    "X_train, X_valid = X_train.align(X_valid, join='left', axis=1)\n",
    "X_train, X_test = X_train.align(X_test, join='left', axis=1)"
   ]
  },
  {
   "cell_type": "markdown",
   "id": "c04ee462",
   "metadata": {
    "papermill": {
     "duration": 0.006118,
     "end_time": "2024-03-03T03:43:05.767300",
     "exception": false,
     "start_time": "2024-03-03T03:43:05.761182",
     "status": "completed"
    },
    "tags": []
   },
   "source": [
    "# Step 1: Build model\n",
    "\n",
    "### Part A\n",
    "\n",
    "In this step, you'll build and train your first model with gradient boosting.\n",
    "\n",
    "- Begin by setting `my_model_1` to an XGBoost model.  Use the [XGBRegressor](https://xgboost.readthedocs.io/en/latest/python/python_api.html#xgboost.XGBRegressor) class, and set the random seed to 0 (`random_state=0`).  **Leave all other parameters as default.**\n",
    "- Then, fit the model to the training data in `X_train` and `y_train`."
   ]
  },
  {
   "cell_type": "code",
   "execution_count": 3,
   "id": "759661ce",
   "metadata": {
    "execution": {
     "iopub.execute_input": "2024-03-03T03:43:05.781832Z",
     "iopub.status.busy": "2024-03-03T03:43:05.781433Z",
     "iopub.status.idle": "2024-03-03T03:43:05.793308Z",
     "shell.execute_reply": "2024-03-03T03:43:05.791928Z"
    },
    "papermill": {
     "duration": 0.02259,
     "end_time": "2024-03-03T03:43:05.796184",
     "exception": false,
     "start_time": "2024-03-03T03:43:05.773594",
     "status": "completed"
    },
    "tags": []
   },
   "outputs": [
    {
     "data": {
      "application/javascript": [
       "parent.postMessage({\"jupyterEvent\": \"custom.exercise_interaction\", \"data\": {\"outcomeType\": 4, \"interactionType\": 1, \"questionType\": 2, \"questionId\": \"1.1_Model1A\", \"learnToolsVersion\": \"0.3.4\", \"valueTowardsCompletion\": 0.0, \"failureMessage\": \"\", \"exceptionClass\": \"\", \"trace\": \"\"}}, \"*\")"
      ],
      "text/plain": [
       "<IPython.core.display.Javascript object>"
      ]
     },
     "metadata": {},
     "output_type": "display_data"
    },
    {
     "data": {
      "text/markdown": [
       "<span style=\"color:#ccaa33\">Check:</span> When you've updated the starter code, `check()` will tell you whether your code is correct. You need to update the code that creates variable `my_model_1`"
      ],
      "text/plain": [
       "Check: When you've updated the starter code, `check()` will tell you whether your code is correct. You need to update the code that creates variable `my_model_1`"
      ]
     },
     "metadata": {},
     "output_type": "display_data"
    }
   ],
   "source": [
    "from xgboost import XGBRegressor\n",
    "\n",
    "# Define the model\n",
    "my_model_1 = ____ # Your code here\n",
    "\n",
    "# Fit the model\n",
    "____ # Your code here\n",
    "\n",
    "# Check your answer\n",
    "step_1.a.check()"
   ]
  },
  {
   "cell_type": "code",
   "execution_count": 4,
   "id": "4e44c4ee",
   "metadata": {
    "execution": {
     "iopub.execute_input": "2024-03-03T03:43:05.813063Z",
     "iopub.status.busy": "2024-03-03T03:43:05.812080Z",
     "iopub.status.idle": "2024-03-03T03:43:05.818147Z",
     "shell.execute_reply": "2024-03-03T03:43:05.817223Z"
    },
    "papermill": {
     "duration": 0.017268,
     "end_time": "2024-03-03T03:43:05.820603",
     "exception": false,
     "start_time": "2024-03-03T03:43:05.803335",
     "status": "completed"
    },
    "tags": []
   },
   "outputs": [],
   "source": [
    "# Lines below will give you a hint or solution code\n",
    "#step_1.a.hint()\n",
    "#step_1.a.solution()"
   ]
  },
  {
   "cell_type": "markdown",
   "id": "bb7889a4",
   "metadata": {
    "papermill": {
     "duration": 0.006956,
     "end_time": "2024-03-03T03:43:05.834941",
     "exception": false,
     "start_time": "2024-03-03T03:43:05.827985",
     "status": "completed"
    },
    "tags": []
   },
   "source": [
    "### Part B\n",
    "\n",
    "Set `predictions_1` to the model's predictions for the validation data.  Recall that the validation features are stored in `X_valid`."
   ]
  },
  {
   "cell_type": "code",
   "execution_count": 5,
   "id": "b498b957",
   "metadata": {
    "execution": {
     "iopub.execute_input": "2024-03-03T03:43:05.852482Z",
     "iopub.status.busy": "2024-03-03T03:43:05.851489Z",
     "iopub.status.idle": "2024-03-03T03:43:05.861933Z",
     "shell.execute_reply": "2024-03-03T03:43:05.860983Z"
    },
    "papermill": {
     "duration": 0.021764,
     "end_time": "2024-03-03T03:43:05.864160",
     "exception": false,
     "start_time": "2024-03-03T03:43:05.842396",
     "status": "completed"
    },
    "tags": []
   },
   "outputs": [
    {
     "data": {
      "application/javascript": [
       "parent.postMessage({\"jupyterEvent\": \"custom.exercise_interaction\", \"data\": {\"outcomeType\": 4, \"interactionType\": 1, \"questionType\": 2, \"questionId\": \"1.2_Model1B\", \"learnToolsVersion\": \"0.3.4\", \"valueTowardsCompletion\": 0.0, \"failureMessage\": \"\", \"exceptionClass\": \"\", \"trace\": \"\"}}, \"*\")"
      ],
      "text/plain": [
       "<IPython.core.display.Javascript object>"
      ]
     },
     "metadata": {},
     "output_type": "display_data"
    },
    {
     "data": {
      "text/markdown": [
       "<span style=\"color:#ccaa33\">Check:</span> When you've updated the starter code, `check()` will tell you whether your code is correct. You need to update the code that creates variable `predictions_1`"
      ],
      "text/plain": [
       "Check: When you've updated the starter code, `check()` will tell you whether your code is correct. You need to update the code that creates variable `predictions_1`"
      ]
     },
     "metadata": {},
     "output_type": "display_data"
    }
   ],
   "source": [
    "from sklearn.metrics import mean_absolute_error\n",
    "\n",
    "# Get predictions\n",
    "predictions_1 = ____ # Your code here\n",
    "\n",
    "# Check your answer\n",
    "step_1.b.check()"
   ]
  },
  {
   "cell_type": "code",
   "execution_count": 6,
   "id": "17abebc2",
   "metadata": {
    "execution": {
     "iopub.execute_input": "2024-03-03T03:43:05.881574Z",
     "iopub.status.busy": "2024-03-03T03:43:05.880793Z",
     "iopub.status.idle": "2024-03-03T03:43:05.885532Z",
     "shell.execute_reply": "2024-03-03T03:43:05.884423Z"
    },
    "papermill": {
     "duration": 0.016899,
     "end_time": "2024-03-03T03:43:05.888598",
     "exception": false,
     "start_time": "2024-03-03T03:43:05.871699",
     "status": "completed"
    },
    "tags": []
   },
   "outputs": [],
   "source": [
    "# Lines below will give you a hint or solution code\n",
    "#step_1.b.hint()\n",
    "#step_1.b.solution()"
   ]
  },
  {
   "cell_type": "markdown",
   "id": "a55a861c",
   "metadata": {
    "papermill": {
     "duration": 0.007565,
     "end_time": "2024-03-03T03:43:05.904068",
     "exception": false,
     "start_time": "2024-03-03T03:43:05.896503",
     "status": "completed"
    },
    "tags": []
   },
   "source": [
    "### Part C\n",
    "\n",
    "Finally, use the `mean_absolute_error()` function to calculate the mean absolute error (MAE) corresponding to the predictions for the validation set.  Recall that the labels for the validation data are stored in `y_valid`."
   ]
  },
  {
   "cell_type": "code",
   "execution_count": 7,
   "id": "76ac2bd9",
   "metadata": {
    "execution": {
     "iopub.execute_input": "2024-03-03T03:43:05.921784Z",
     "iopub.status.busy": "2024-03-03T03:43:05.921296Z",
     "iopub.status.idle": "2024-03-03T03:43:05.931388Z",
     "shell.execute_reply": "2024-03-03T03:43:05.930233Z"
    },
    "papermill": {
     "duration": 0.021885,
     "end_time": "2024-03-03T03:43:05.933715",
     "exception": false,
     "start_time": "2024-03-03T03:43:05.911830",
     "status": "completed"
    },
    "tags": []
   },
   "outputs": [
    {
     "data": {
      "application/javascript": [
       "parent.postMessage({\"jupyterEvent\": \"custom.exercise_interaction\", \"data\": {\"outcomeType\": 4, \"interactionType\": 1, \"questionType\": 2, \"questionId\": \"1.3_Model1C\", \"learnToolsVersion\": \"0.3.4\", \"valueTowardsCompletion\": 0.0, \"failureMessage\": \"\", \"exceptionClass\": \"\", \"trace\": \"\"}}, \"*\")"
      ],
      "text/plain": [
       "<IPython.core.display.Javascript object>"
      ]
     },
     "metadata": {},
     "output_type": "display_data"
    },
    {
     "data": {
      "text/markdown": [
       "<span style=\"color:#ccaa33\">Check:</span> When you've updated the starter code, `check()` will tell you whether your code is correct. You need to update the code that creates variable `mae_1`"
      ],
      "text/plain": [
       "Check: When you've updated the starter code, `check()` will tell you whether your code is correct. You need to update the code that creates variable `mae_1`"
      ]
     },
     "metadata": {},
     "output_type": "display_data"
    }
   ],
   "source": [
    "# Calculate MAE\n",
    "mae_1 = ____ # Your code here\n",
    "\n",
    "# Uncomment to print MAE\n",
    "# print(\"Mean Absolute Error:\" , mae_1)\n",
    "\n",
    "# Check your answer\n",
    "step_1.c.check()"
   ]
  },
  {
   "cell_type": "code",
   "execution_count": 8,
   "id": "c89eaedb",
   "metadata": {
    "execution": {
     "iopub.execute_input": "2024-03-03T03:43:05.952711Z",
     "iopub.status.busy": "2024-03-03T03:43:05.951431Z",
     "iopub.status.idle": "2024-03-03T03:43:05.956925Z",
     "shell.execute_reply": "2024-03-03T03:43:05.955779Z"
    },
    "papermill": {
     "duration": 0.017654,
     "end_time": "2024-03-03T03:43:05.959401",
     "exception": false,
     "start_time": "2024-03-03T03:43:05.941747",
     "status": "completed"
    },
    "tags": []
   },
   "outputs": [],
   "source": [
    "# Lines below will give you a hint or solution code\n",
    "#step_1.c.hint()\n",
    "#step_1.c.solution()"
   ]
  },
  {
   "cell_type": "markdown",
   "id": "cc0a6511",
   "metadata": {
    "papermill": {
     "duration": 0.007795,
     "end_time": "2024-03-03T03:43:05.976826",
     "exception": false,
     "start_time": "2024-03-03T03:43:05.969031",
     "status": "completed"
    },
    "tags": []
   },
   "source": [
    "# Step 2: Improve the model\n",
    "\n",
    "Now that you've trained a default model as baseline, it's time to tinker with the parameters, to see if you can get better performance!\n",
    "- Begin by setting `my_model_2` to an XGBoost model, using the [XGBRegressor](https://xgboost.readthedocs.io/en/latest/python/python_api.html#xgboost.XGBRegressor) class.  Use what you learned in the previous tutorial to figure out how to change the default parameters (like `n_estimators` and `learning_rate`) to get better results.\n",
    "- Then, fit the model to the training data in `X_train` and `y_train`.\n",
    "- Set `predictions_2` to the model's predictions for the validation data.  Recall that the validation features are stored in `X_valid`.\n",
    "- Finally, use the `mean_absolute_error()` function to calculate the mean absolute error (MAE) corresponding to the predictions on the validation set.  Recall that the labels for the validation data are stored in `y_valid`.\n",
    "\n",
    "In order for this step to be marked correct, your model in `my_model_2` must attain lower MAE than the model in `my_model_1`. "
   ]
  },
  {
   "cell_type": "code",
   "execution_count": 9,
   "id": "7e554556",
   "metadata": {
    "execution": {
     "iopub.execute_input": "2024-03-03T03:43:05.994744Z",
     "iopub.status.busy": "2024-03-03T03:43:05.994356Z",
     "iopub.status.idle": "2024-03-03T03:43:06.004510Z",
     "shell.execute_reply": "2024-03-03T03:43:06.003331Z"
    },
    "papermill": {
     "duration": 0.022397,
     "end_time": "2024-03-03T03:43:06.007313",
     "exception": false,
     "start_time": "2024-03-03T03:43:05.984916",
     "status": "completed"
    },
    "tags": []
   },
   "outputs": [
    {
     "data": {
      "application/javascript": [
       "parent.postMessage({\"jupyterEvent\": \"custom.exercise_interaction\", \"data\": {\"outcomeType\": 4, \"interactionType\": 1, \"questionType\": 2, \"questionId\": \"2_Model2\", \"learnToolsVersion\": \"0.3.4\", \"valueTowardsCompletion\": 0.0, \"failureMessage\": \"\", \"exceptionClass\": \"\", \"trace\": \"\"}}, \"*\")"
      ],
      "text/plain": [
       "<IPython.core.display.Javascript object>"
      ]
     },
     "metadata": {},
     "output_type": "display_data"
    },
    {
     "data": {
      "text/markdown": [
       "<span style=\"color:#ccaa33\">Check:</span> When you've updated the starter code, `check()` will tell you whether your code is correct. You need to update the code that creates variables `my_model_2`, `predictions_2`, `mae_2`"
      ],
      "text/plain": [
       "Check: When you've updated the starter code, `check()` will tell you whether your code is correct. You need to update the code that creates variables `my_model_2`, `predictions_2`, `mae_2`"
      ]
     },
     "metadata": {},
     "output_type": "display_data"
    }
   ],
   "source": [
    "# Define the model\n",
    "my_model_2 = ____ # Your code here\n",
    "\n",
    "# Fit the model\n",
    "____ # Your code here\n",
    "\n",
    "# Get predictions\n",
    "predictions_2 = ____ # Your code here\n",
    "\n",
    "# Calculate MAE\n",
    "mae_2 = ____ # Your code here\n",
    "\n",
    "# Uncomment to print MAE\n",
    "# print(\"Mean Absolute Error:\" , mae_2)\n",
    "\n",
    "# Check your answer\n",
    "step_2.check()"
   ]
  },
  {
   "cell_type": "code",
   "execution_count": 10,
   "id": "8b93ee5d",
   "metadata": {
    "execution": {
     "iopub.execute_input": "2024-03-03T03:43:06.027761Z",
     "iopub.status.busy": "2024-03-03T03:43:06.026631Z",
     "iopub.status.idle": "2024-03-03T03:43:06.031288Z",
     "shell.execute_reply": "2024-03-03T03:43:06.030383Z"
    },
    "papermill": {
     "duration": 0.017325,
     "end_time": "2024-03-03T03:43:06.033606",
     "exception": false,
     "start_time": "2024-03-03T03:43:06.016281",
     "status": "completed"
    },
    "tags": []
   },
   "outputs": [],
   "source": [
    "# Lines below will give you a hint or solution code\n",
    "#step_2.hint()\n",
    "#step_2.solution()"
   ]
  },
  {
   "cell_type": "markdown",
   "id": "67d50908",
   "metadata": {
    "papermill": {
     "duration": 0.00832,
     "end_time": "2024-03-03T03:43:06.050614",
     "exception": false,
     "start_time": "2024-03-03T03:43:06.042294",
     "status": "completed"
    },
    "tags": []
   },
   "source": [
    "# Step 3: Break the model\n",
    "\n",
    "In this step, you will create a model that performs worse than the original model in Step 1.  This will help you to develop your intuition for how to set parameters.  You might even find that you accidentally get better performance, which is ultimately a nice problem to have and a valuable learning experience!\n",
    "- Begin by setting `my_model_3` to an XGBoost model, using the [XGBRegressor](https://xgboost.readthedocs.io/en/latest/python/python_api.html#xgboost.XGBRegressor) class.  Use what you learned in the previous tutorial to figure out how to change the default parameters (like `n_estimators` and `learning_rate`) to design a model to get high MAE.\n",
    "- Then, fit the model to the training data in `X_train` and `y_train`.\n",
    "- Set `predictions_3` to the model's predictions for the validation data.  Recall that the validation features are stored in `X_valid`.\n",
    "- Finally, use the `mean_absolute_error()` function to calculate the mean absolute error (MAE) corresponding to the predictions on the validation set.  Recall that the labels for the validation data are stored in `y_valid`.\n",
    "\n",
    "In order for this step to be marked correct, your model in `my_model_3` must attain higher MAE than the model in `my_model_1`. "
   ]
  },
  {
   "cell_type": "code",
   "execution_count": 11,
   "id": "c91eda11",
   "metadata": {
    "execution": {
     "iopub.execute_input": "2024-03-03T03:43:06.070207Z",
     "iopub.status.busy": "2024-03-03T03:43:06.069734Z",
     "iopub.status.idle": "2024-03-03T03:43:06.080753Z",
     "shell.execute_reply": "2024-03-03T03:43:06.079195Z"
    },
    "papermill": {
     "duration": 0.023796,
     "end_time": "2024-03-03T03:43:06.083352",
     "exception": false,
     "start_time": "2024-03-03T03:43:06.059556",
     "status": "completed"
    },
    "tags": []
   },
   "outputs": [
    {
     "data": {
      "application/javascript": [
       "parent.postMessage({\"jupyterEvent\": \"custom.exercise_interaction\", \"data\": {\"outcomeType\": 4, \"interactionType\": 1, \"questionType\": 2, \"questionId\": \"3_Model3\", \"learnToolsVersion\": \"0.3.4\", \"valueTowardsCompletion\": 0.0, \"failureMessage\": \"\", \"exceptionClass\": \"\", \"trace\": \"\"}}, \"*\")"
      ],
      "text/plain": [
       "<IPython.core.display.Javascript object>"
      ]
     },
     "metadata": {},
     "output_type": "display_data"
    },
    {
     "data": {
      "text/markdown": [
       "<span style=\"color:#ccaa33\">Check:</span> When you've updated the starter code, `check()` will tell you whether your code is correct. You need to update the code that creates variables `my_model_3`, `predictions_3`, `mae_3`"
      ],
      "text/plain": [
       "Check: When you've updated the starter code, `check()` will tell you whether your code is correct. You need to update the code that creates variables `my_model_3`, `predictions_3`, `mae_3`"
      ]
     },
     "metadata": {},
     "output_type": "display_data"
    }
   ],
   "source": [
    "# Define the model\n",
    "my_model_3 = ____\n",
    "\n",
    "# Fit the model\n",
    "____ # Your code here\n",
    "\n",
    "# Get predictions\n",
    "predictions_3 = ____\n",
    "\n",
    "# Calculate MAE\n",
    "mae_3 = ____\n",
    "\n",
    "# Uncomment to print MAE\n",
    "# print(\"Mean Absolute Error:\" , mae_3)\n",
    "\n",
    "# Check your answer\n",
    "step_3.check()"
   ]
  },
  {
   "cell_type": "code",
   "execution_count": 12,
   "id": "640638b3",
   "metadata": {
    "execution": {
     "iopub.execute_input": "2024-03-03T03:43:06.104031Z",
     "iopub.status.busy": "2024-03-03T03:43:06.103561Z",
     "iopub.status.idle": "2024-03-03T03:43:06.108332Z",
     "shell.execute_reply": "2024-03-03T03:43:06.107448Z"
    },
    "papermill": {
     "duration": 0.017881,
     "end_time": "2024-03-03T03:43:06.110537",
     "exception": false,
     "start_time": "2024-03-03T03:43:06.092656",
     "status": "completed"
    },
    "tags": []
   },
   "outputs": [],
   "source": [
    "# Lines below will give you a hint or solution code\n",
    "#step_3.hint()\n",
    "#step_3.solution()"
   ]
  },
  {
   "cell_type": "markdown",
   "id": "22484348",
   "metadata": {
    "papermill": {
     "duration": 0.008618,
     "end_time": "2024-03-03T03:43:06.128267",
     "exception": false,
     "start_time": "2024-03-03T03:43:06.119649",
     "status": "completed"
    },
    "tags": []
   },
   "source": [
    "# Keep going\n",
    "\n",
    "Continue to learn about **[data leakage](https://www.kaggle.com/alexisbcook/data-leakage)**.  This is an important issue for a data scientist to understand, and it has the potential to ruin your models in subtle and dangerous ways!"
   ]
  },
  {
   "cell_type": "markdown",
   "id": "ab5470c8",
   "metadata": {
    "papermill": {
     "duration": 0.008783,
     "end_time": "2024-03-03T03:43:06.146116",
     "exception": false,
     "start_time": "2024-03-03T03:43:06.137333",
     "status": "completed"
    },
    "tags": []
   },
   "source": [
    "---\n",
    "\n",
    "\n",
    "\n",
    "\n",
    "*Have questions or comments? Visit the [course discussion forum](https://www.kaggle.com/learn/intermediate-machine-learning/discussion) to chat with other learners.*"
   ]
  }
 ],
 "metadata": {
  "kaggle": {
   "accelerator": "none",
   "dataSources": [
    {
     "databundleVersionId": 111096,
     "sourceId": 10211,
     "sourceType": "competition"
    }
   ],
   "isGpuEnabled": false,
   "isInternetEnabled": false,
   "language": "python",
   "sourceType": "notebook"
  },
  "kernelspec": {
   "display_name": "Python 3",
   "language": "python",
   "name": "python3"
  },
  "language_info": {
   "codemirror_mode": {
    "name": "ipython",
    "version": 3
   },
   "file_extension": ".py",
   "mimetype": "text/x-python",
   "name": "python",
   "nbconvert_exporter": "python",
   "pygments_lexer": "ipython3",
   "version": "3.10.13"
  },
  "papermill": {
   "default_parameters": {},
   "duration": 8.872597,
   "end_time": "2024-03-03T03:43:06.977537",
   "environment_variables": {},
   "exception": null,
   "input_path": "__notebook__.ipynb",
   "output_path": "__notebook__.ipynb",
   "parameters": {},
   "start_time": "2024-03-03T03:42:58.104940",
   "version": "2.5.0"
  }
 },
 "nbformat": 4,
 "nbformat_minor": 5
}
